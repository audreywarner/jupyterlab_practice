{
 "cells": [
  {
   "cell_type": "markdown",
   "id": "7a3ec798-b68e-4960-820d-1c5042ece417",
   "metadata": {},
   "source": [
    "# Audrey Warner\n",
    "Notebook for assignment 7"
   ]
  },
  {
   "cell_type": "code",
   "execution_count": 1,
   "id": "a116f04a-7a89-4803-ab9c-9ae140c86bcc",
   "metadata": {
    "tags": []
   },
   "outputs": [
    {
     "data": {
      "text/plain": [
       "5"
      ]
     },
     "execution_count": 1,
     "metadata": {},
     "output_type": "execute_result"
    }
   ],
   "source": [
    "import statistics as stat\n",
    "compute_mean = stat.mean\n",
    "compute_mean([2, 4, 6, 8])"
   ]
  },
  {
   "cell_type": "markdown",
   "id": "f11f6db1-0a3e-47d3-a0c3-6e588b9bdc8a",
   "metadata": {},
   "source": [
    "This function calculates the average of a list of numbers. \n",
    "\n",
    "$$ \\bar{x} = \\frac{x_{1} + x_{2} + ... + x_{n}}{n} = \\frac{1}{n}\\left({\\sum_{i=1}^{n} x_{i}}\\right)$$"
   ]
  }
 ],
 "metadata": {
  "kernelspec": {
   "display_name": "Python 3 (ipykernel)",
   "language": "python",
   "name": "python3"
  },
  "language_info": {
   "codemirror_mode": {
    "name": "ipython",
    "version": 3
   },
   "file_extension": ".py",
   "mimetype": "text/x-python",
   "name": "python",
   "nbconvert_exporter": "python",
   "pygments_lexer": "ipython3",
   "version": "3.10.10"
  }
 },
 "nbformat": 4,
 "nbformat_minor": 5
}
